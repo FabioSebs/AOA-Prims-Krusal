{
  "nbformat": 4,
  "nbformat_minor": 0,
  "metadata": {
    "colab": {
      "name": "Week7.ipynb",
      "provenance": [],
      "collapsed_sections": []
    },
    "kernelspec": {
      "name": "python3",
      "display_name": "Python 3"
    },
    "language_info": {
      "name": "python"
    }
  },
  "cells": [
    {
      "cell_type": "markdown",
      "metadata": {
        "id": "N4Hcfuv5qBtS"
      },
      "source": [
        "# IMPORTING GZ FILE"
      ]
    },
    {
      "cell_type": "code",
      "metadata": {
        "colab": {
          "base_uri": "https://localhost:8080/"
        },
        "id": "pTeEShR5pECt",
        "outputId": "de72f7e1-0514-453c-a0b3-4bf02ed582d9"
      },
      "source": [
        "import gzip\n",
        "\n",
        "with gzip.open('./NY.gz', 'rb') as f:\n",
        "    gzipFile = f.read()\n",
        "    \n",
        "print(gzipFile[2])"
      ],
      "execution_count": 452,
      "outputs": [
        {
          "output_type": "stream",
          "name": "stdout",
          "text": [
            "57\n"
          ]
        }
      ]
    },
    {
      "cell_type": "markdown",
      "metadata": {
        "id": "T5OeoMx5qh3t"
      },
      "source": [
        "# GRAPH CLASS"
      ]
    },
    {
      "cell_type": "code",
      "metadata": {
        "id": "Uni9ACdeqKn7"
      },
      "source": [
        "class Graph():\n",
        "    def __init__(self):\n",
        "        print(\"Created Graph! \\n\")\n",
        "        self.vertices = []\n",
        "        self.edges = {}\n",
        "\n",
        "    def addVertex(self, vertex):\n",
        "        if (self.isEmpty()):\n",
        "            self.vertices.append(vertex)\n",
        "            self.edges.update({vertex: []})\n",
        "        else:\n",
        "            self.vertices.append(vertex)\n",
        "            self.edges.update({vertex: []})\n",
        "            # Connecting last two vertexes in graph together\n",
        "            self.addEdges(self.vertices[len(\n",
        "                self.vertices)-1], self.vertices[len(self.vertices)-2])\n",
        "\n",
        "    def addEdges(self, vertex1, vertex2):\n",
        "        # self.edges[vertex1].append(vertex2)\n",
        "        self.edges[vertex2].append(vertex1)\n",
        "\n",
        "    def isEmpty(self):\n",
        "        return True if not len(self.vertices) else False\n",
        "\n",
        "    def printGraph(self):\n",
        "        for x in self.vertices:\n",
        "          print(x.data, x.weight, [f'{city.data} weight: {city.weight}' for city in self.edges[x]])\n",
        "        # x = PrettyTable()\n",
        "        # x.field_names = [\n",
        "        #     \"Vertices (Cities)\", \"Edges (Cities/Distance)\"]\n",
        "\n",
        "        # try:\n",
        "        #     for v in self.vertices:\n",
        "        #         x.add_row([v.data, [x.getInfo() for x in self.edges[v]]])\n",
        "        #     print(x)\n",
        "        # except:\n",
        "        #     print(\"Graph Vertices is not consisted of Cities from JSON file.\")"
      ],
      "execution_count": 453,
      "outputs": []
    },
    {
      "cell_type": "markdown",
      "metadata": {
        "id": "Sdjgu_-NrMCo"
      },
      "source": [
        "# NODE CLASS"
      ]
    },
    {
      "cell_type": "code",
      "metadata": {
        "id": "w8IspL0mrN0H"
      },
      "source": [
        "# Base Vertex Class\n",
        "class Vertex():\n",
        "    def __init__(self, data):\n",
        "        self.data = data\n",
        "\n",
        "# Weighted Vertex\n",
        "\n",
        "\n",
        "class WeightedVertex(Vertex):\n",
        "    def __init__(self, data, weight):\n",
        "        super().__init__(data)\n",
        "        self.weight = weight\n",
        "\n",
        "    def getInfo(self):\n",
        "        return (self.data, self.weight)\n"
      ],
      "execution_count": 454,
      "outputs": []
    },
    {
      "cell_type": "markdown",
      "metadata": {
        "id": "Y-Sf1mBtrkbx"
      },
      "source": [
        "# ADD GZIP FILE TO GRAPH"
      ]
    },
    {
      "cell_type": "code",
      "metadata": {
        "colab": {
          "base_uri": "https://localhost:8080/"
        },
        "id": "rKQdqH0CroV_",
        "outputId": "1a355554-741b-4ab5-8995-fe615681da92"
      },
      "source": [
        "cityGraph = Graph()\n",
        "for idx, val in enumerate(gzipFile[0:100]):\n",
        "    cityName = \"ny city \" + str(idx)\n",
        "    cityVertex = WeightedVertex(cityName, val)\n",
        "    cityGraph.addVertex(cityVertex)"
      ],
      "execution_count": 455,
      "outputs": [
        {
          "output_type": "stream",
          "name": "stdout",
          "text": [
            "Created Graph! \n",
            "\n"
          ]
        }
      ]
    },
    {
      "cell_type": "markdown",
      "metadata": {
        "id": "dVjnisjPtbmV"
      },
      "source": [
        "# PRIMS ALGORITHM\n",
        "---\n",
        "#### - keeps track of visited\n",
        "#### - greedy\n",
        "#### - makes minimum spanning tree "
      ]
    },
    {
      "cell_type": "code",
      "metadata": {
        "id": "NgzXLtXQz-V7"
      },
      "source": [
        "######UTILITY FUNCTIONS########\n",
        "import random\n",
        "\n",
        "def returnWeight(obj):\n",
        "  return obj[\"weight\"]\n",
        "\n",
        "def addRandomEdges(graph):\n",
        "  for _ in range(len(graph.vertices)):\n",
        "    idx1 = random.randint(0, len(graph.vertices)-1)\n",
        "    idx2 = random.randint(0, len(graph.vertices)-1)\n",
        "    graph.addEdges(graph.vertices[idx1], graph.vertices[idx2])\n",
        "    "
      ],
      "execution_count": 456,
      "outputs": []
    },
    {
      "cell_type": "code",
      "metadata": {
        "id": "SJHOmofnteJA"
      },
      "source": [
        "def prims(graph,start, goal, initial = True, visited = []):\n",
        "  weights = []\n",
        "\n",
        "  # base case\n",
        "  if (start.data == goal.data):\n",
        "    return True\n",
        "  \n",
        "  # change weights on start\n",
        "  if (initial):\n",
        "    for x in graph.vertices:\n",
        "      if (start.data == x.data):\n",
        "        x.weight = 0\n",
        "        start.weight = 0\n",
        "        initial = False\n",
        "\n",
        "  # loop through start node edges\n",
        "  for x in graph.vertices:     # x is the nodes\n",
        "    if (start.data == x.data):\n",
        "      for y in graph.edges[x]:    # y is the edge nodes of x \n",
        "        weights.append({\"node\": y,\"weight\" : y.weight})   #append all of the nodes and corresponding weights\n",
        "      \n",
        "      #Checking if they are visited already and we will pop them off the weights list\n",
        "      if (len(visited) >= 1):\n",
        "        for check in weights:\n",
        "          for visit in visited:\n",
        "            if (check[\"node\"] == visit):\n",
        "              weights.remove(check)\n",
        "\n",
        "      # Next we visit the one with the least weight and append the node to visited\n",
        "      if (len(weights) >= 1):\n",
        "        weights.sort(key = returnWeight)  #sort on weight in ascending order\n",
        "        visited.append(weights[0][\"node\"])\n",
        "      else:\n",
        "        visited.append(weights[0][\"node\"])\n",
        "\n",
        "  for x in visited:\n",
        "    if (x.data == goal.data):\n",
        "      return True\n",
        "\n",
        "  print(visited[-1].data)  \n",
        "\n",
        "  try:\n",
        "    return prims(graph, visited[-1], goal, initial, visited)    \n",
        "\n",
        "  except IndexError:\n",
        "    pass\n",
        "  \n"
      ],
      "execution_count": 457,
      "outputs": []
    },
    {
      "cell_type": "markdown",
      "metadata": {
        "id": "eLy-o_RNtgmL"
      },
      "source": [
        "# KRUSAL ALGORITHM\n",
        "#### - smallest edges that dont create cycle\n",
        "#### - sorts edges\n",
        "#### - makes minimum spanning tree\n"
      ]
    },
    {
      "cell_type": "code",
      "metadata": {
        "id": "qlPSZNq4tmtn"
      },
      "source": [
        ""
      ],
      "execution_count": 457,
      "outputs": []
    },
    {
      "cell_type": "markdown",
      "metadata": {
        "id": "fgFVTVL55H0y"
      },
      "source": [
        "# TESTING ALGORITHMS\n",
        "### Finding two nodes in graph to set as start and goal node also showing the random edges of the graph"
      ]
    },
    {
      "cell_type": "code",
      "metadata": {
        "colab": {
          "base_uri": "https://localhost:8080/"
        },
        "id": "Oj-QOULe56rR",
        "outputId": "5778409e-ac03-4ca7-bccf-a9751d01e66e"
      },
      "source": [
        "addRandomEdges(cityGraph)\n",
        "cityGraph.printGraph()"
      ],
      "execution_count": 458,
      "outputs": [
        {
          "output_type": "stream",
          "name": "stdout",
          "text": [
            "ny city 0 99 ['ny city 1 weight: 32', 'ny city 23 weight: 116']\n",
            "ny city 1 32 ['ny city 2 weight: 57', 'ny city 43 weight: 116']\n",
            "ny city 2 57 ['ny city 3 weight: 116', 'ny city 21 weight: 116']\n",
            "ny city 3 116 ['ny city 4 weight: 104', 'ny city 78 weight: 49']\n",
            "ny city 4 104 ['ny city 5 weight: 32', 'ny city 74 weight: 114']\n",
            "ny city 5 32 ['ny city 6 weight: 68']\n",
            "ny city 6 68 ['ny city 7 weight: 73', 'ny city 11 weight: 83', 'ny city 64 weight: 119']\n",
            "ny city 7 73 ['ny city 8 weight: 77', 'ny city 34 weight: 110']\n",
            "ny city 8 77 ['ny city 9 weight: 65']\n",
            "ny city 9 65 ['ny city 10 weight: 67']\n",
            "ny city 10 67 ['ny city 11 weight: 83', 'ny city 59 weight: 112', 'ny city 88 weight: 108']\n",
            "ny city 11 83 ['ny city 12 weight: 32', 'ny city 1 weight: 32']\n",
            "ny city 12 32 ['ny city 13 weight: 73', 'ny city 66 weight: 46']\n",
            "ny city 13 73 ['ny city 14 weight: 109', 'ny city 28 weight: 67']\n",
            "ny city 14 109 ['ny city 15 weight: 112', 'ny city 13 weight: 73']\n",
            "ny city 15 112 ['ny city 16 weight: 108', 'ny city 80 weight: 105', 'ny city 95 weight: 99']\n",
            "ny city 16 108 ['ny city 17 weight: 101', 'ny city 58 weight: 116', 'ny city 11 weight: 83']\n",
            "ny city 17 101 ['ny city 18 weight: 109', 'ny city 20 weight: 110']\n",
            "ny city 18 109 ['ny city 19 weight: 101']\n",
            "ny city 19 101 ['ny city 20 weight: 110', 'ny city 40 weight: 104']\n",
            "ny city 20 110 ['ny city 21 weight: 116']\n",
            "ny city 21 116 ['ny city 22 weight: 97', 'ny city 37 weight: 58']\n",
            "ny city 22 97 ['ny city 23 weight: 116', 'ny city 64 weight: 119', 'ny city 54 weight: 99']\n",
            "ny city 23 116 ['ny city 24 weight: 105', 'ny city 98 weight: 73', 'ny city 51 weight: 104']\n",
            "ny city 24 105 ['ny city 25 weight: 111', 'ny city 94 weight: 10']\n",
            "ny city 25 111 ['ny city 26 weight: 110']\n",
            "ny city 26 110 ['ny city 27 weight: 32', 'ny city 10 weight: 67']\n",
            "ny city 27 32 ['ny city 28 weight: 67']\n",
            "ny city 28 67 ['ny city 29 weight: 104']\n",
            "ny city 29 104 ['ny city 30 weight: 97', 'ny city 31 weight: 108']\n",
            "ny city 30 97 ['ny city 31 weight: 108']\n",
            "ny city 31 108 ['ny city 32 weight: 108']\n",
            "ny city 32 108 ['ny city 33 weight: 101', 'ny city 65 weight: 119', 'ny city 75 weight: 111', 'ny city 27 weight: 32']\n",
            "ny city 33 101 ['ny city 34 weight: 110', 'ny city 85 weight: 104', 'ny city 10 weight: 67', 'ny city 6 weight: 68']\n",
            "ny city 34 110 ['ny city 35 weight: 103']\n",
            "ny city 35 103 ['ny city 36 weight: 101', 'ny city 38 weight: 32', 'ny city 7 weight: 73']\n",
            "ny city 36 101 ['ny city 37 weight: 58']\n",
            "ny city 37 58 ['ny city 38 weight: 32', 'ny city 4 weight: 104', 'ny city 47 weight: 32']\n",
            "ny city 38 32 ['ny city 39 weight: 83']\n",
            "ny city 39 83 ['ny city 40 weight: 104', 'ny city 18 weight: 109']\n",
            "ny city 40 104 ['ny city 41 weight: 111']\n",
            "ny city 41 111 ['ny city 42 weight: 114']\n",
            "ny city 42 114 ['ny city 43 weight: 116', 'ny city 51 weight: 104']\n",
            "ny city 43 116 ['ny city 44 weight: 101']\n",
            "ny city 44 101 ['ny city 45 weight: 115', 'ny city 10 weight: 67', 'ny city 82 weight: 47', 'ny city 5 weight: 32']\n",
            "ny city 45 115 ['ny city 46 weight: 116', 'ny city 9 weight: 65']\n",
            "ny city 46 116 ['ny city 47 weight: 32', 'ny city 95 weight: 99', 'ny city 57 weight: 116', 'ny city 53 weight: 10', 'ny city 83 weight: 126']\n",
            "ny city 47 32 ['ny city 48 weight: 80', 'ny city 90 weight: 110']\n",
            "ny city 48 80 ['ny city 49 weight: 97']\n",
            "ny city 49 97 ['ny city 50 weight: 116', 'ny city 42 weight: 114', 'ny city 49 weight: 97']\n",
            "ny city 50 116 ['ny city 51 weight: 104', 'ny city 61 weight: 47', 'ny city 60 weight: 58']\n",
            "ny city 51 104 ['ny city 52 weight: 115', 'ny city 40 weight: 104', 'ny city 47 weight: 32']\n",
            "ny city 52 115 ['ny city 53 weight: 10']\n",
            "ny city 53 10 ['ny city 54 weight: 99']\n",
            "ny city 54 99 ['ny city 55 weight: 32']\n",
            "ny city 55 32 ['ny city 56 weight: 104', 'ny city 31 weight: 108', 'ny city 80 weight: 105']\n",
            "ny city 56 104 ['ny city 57 weight: 116']\n",
            "ny city 57 116 ['ny city 58 weight: 116', 'ny city 41 weight: 111', 'ny city 48 weight: 80', 'ny city 37 weight: 58', 'ny city 71 weight: 117']\n",
            "ny city 58 116 ['ny city 59 weight: 112', 'ny city 47 weight: 32', 'ny city 82 weight: 47']\n",
            "ny city 59 112 ['ny city 60 weight: 58', 'ny city 8 weight: 77', 'ny city 18 weight: 109']\n",
            "ny city 60 58 ['ny city 61 weight: 47', 'ny city 1 weight: 32', 'ny city 95 weight: 99']\n",
            "ny city 61 47 ['ny city 62 weight: 47']\n",
            "ny city 62 47 ['ny city 63 weight: 119', 'ny city 35 weight: 103']\n",
            "ny city 63 119 ['ny city 64 weight: 119', 'ny city 20 weight: 110']\n",
            "ny city 64 119 ['ny city 65 weight: 119', 'ny city 32 weight: 108', 'ny city 7 weight: 73']\n",
            "ny city 65 119 ['ny city 66 weight: 46']\n",
            "ny city 66 46 ['ny city 67 weight: 100', 'ny city 67 weight: 100', 'ny city 16 weight: 108']\n",
            "ny city 67 100 ['ny city 68 weight: 105']\n",
            "ny city 68 105 ['ny city 69 weight: 115', 'ny city 52 weight: 115']\n",
            "ny city 69 115 ['ny city 70 weight: 46']\n",
            "ny city 70 46 ['ny city 71 weight: 117', 'ny city 51 weight: 104', 'ny city 31 weight: 108']\n",
            "ny city 71 117 ['ny city 72 weight: 110']\n",
            "ny city 72 110 ['ny city 73 weight: 105']\n",
            "ny city 73 105 ['ny city 74 weight: 114', 'ny city 39 weight: 83']\n",
            "ny city 74 114 ['ny city 75 weight: 111']\n",
            "ny city 75 111 ['ny city 76 weight: 109']\n",
            "ny city 76 109 ['ny city 77 weight: 97', 'ny city 54 weight: 99']\n",
            "ny city 77 97 ['ny city 78 weight: 49', 'ny city 7 weight: 73']\n",
            "ny city 78 49 ['ny city 79 weight: 46']\n",
            "ny city 79 46 ['ny city 80 weight: 105', 'ny city 65 weight: 119']\n",
            "ny city 80 105 ['ny city 81 weight: 116', 'ny city 27 weight: 32']\n",
            "ny city 81 116 ['ny city 82 weight: 47', 'ny city 21 weight: 116', 'ny city 56 weight: 104']\n",
            "ny city 82 47 ['ny city 83 weight: 126', 'ny city 63 weight: 119']\n",
            "ny city 83 126 ['ny city 84 weight: 99']\n",
            "ny city 84 99 ['ny city 85 weight: 104']\n",
            "ny city 85 104 ['ny city 86 weight: 97']\n",
            "ny city 86 97 ['ny city 87 weight: 108', 'ny city 19 weight: 101', 'ny city 99 weight: 71']\n",
            "ny city 87 108 ['ny city 88 weight: 108', 'ny city 54 weight: 99', 'ny city 54 weight: 99']\n",
            "ny city 88 108 ['ny city 89 weight: 101', 'ny city 35 weight: 103']\n",
            "ny city 89 101 ['ny city 90 weight: 110', 'ny city 66 weight: 46', 'ny city 80 weight: 105']\n",
            "ny city 90 110 ['ny city 91 weight: 103']\n",
            "ny city 91 103 ['ny city 92 weight: 101', 'ny city 60 weight: 58']\n",
            "ny city 92 101 ['ny city 93 weight: 57', 'ny city 10 weight: 67', 'ny city 82 weight: 47']\n",
            "ny city 93 57 ['ny city 94 weight: 10', 'ny city 82 weight: 47']\n",
            "ny city 94 10 ['ny city 95 weight: 99', 'ny city 98 weight: 73']\n",
            "ny city 95 99 ['ny city 96 weight: 32', 'ny city 66 weight: 46']\n",
            "ny city 96 32 ['ny city 97 weight: 84', 'ny city 65 weight: 119']\n",
            "ny city 97 84 ['ny city 98 weight: 73', 'ny city 24 weight: 105']\n",
            "ny city 98 73 ['ny city 99 weight: 71']\n",
            "ny city 99 71 ['ny city 47 weight: 32']\n"
          ]
        }
      ]
    },
    {
      "cell_type": "markdown",
      "metadata": {
        "id": "TOtOS9nf8plq"
      },
      "source": [
        "#### Lets pick the first and last element - we have to make them a vertex class object tho"
      ]
    },
    {
      "cell_type": "code",
      "metadata": {
        "id": "YstaBXfN82Ht"
      },
      "source": [
        "startNode = WeightedVertex(\"ny city 0\", 99)\n",
        "goalNode = WeightedVertex(\"ny city 10\", 67)"
      ],
      "execution_count": 459,
      "outputs": []
    },
    {
      "cell_type": "markdown",
      "metadata": {
        "id": "1ByNsXWX9IqJ"
      },
      "source": [
        "#### Now lets call Prims"
      ]
    },
    {
      "cell_type": "code",
      "metadata": {
        "colab": {
          "base_uri": "https://localhost:8080/"
        },
        "id": "B7wwAzOU9KgO",
        "outputId": "5285925e-50f5-48d5-f136-6837703c338b"
      },
      "source": [
        "prims(cityGraph, startNode, goalNode)"
      ],
      "execution_count": 460,
      "outputs": [
        {
          "output_type": "stream",
          "name": "stdout",
          "text": [
            "ny city 1\n",
            "ny city 2\n",
            "ny city 3\n",
            "ny city 78\n",
            "ny city 79\n",
            "ny city 80\n",
            "ny city 27\n",
            "ny city 28\n",
            "ny city 29\n",
            "ny city 30\n",
            "ny city 31\n",
            "ny city 32\n",
            "ny city 33\n"
          ]
        },
        {
          "output_type": "execute_result",
          "data": {
            "text/plain": [
              "True"
            ]
          },
          "metadata": {},
          "execution_count": 460
        }
      ]
    }
  ]
}