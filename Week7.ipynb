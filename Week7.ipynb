{
  "nbformat": 4,
  "nbformat_minor": 0,
  "metadata": {
    "colab": {
      "name": "Week7.ipynb",
      "provenance": [],
      "collapsed_sections": []
    },
    "kernelspec": {
      "name": "python3",
      "display_name": "Python 3"
    },
    "language_info": {
      "name": "python"
    }
  },
  "cells": [
    {
      "cell_type": "markdown",
      "metadata": {
        "id": "N4Hcfuv5qBtS"
      },
      "source": [
        "# IMPORTING GZ FILE"
      ]
    },
    {
      "cell_type": "code",
      "metadata": {
        "colab": {
          "base_uri": "https://localhost:8080/"
        },
        "id": "pTeEShR5pECt",
        "outputId": "b5286989-aeda-43d0-cc34-a16cb19ddd13"
      },
      "source": [
        "import gzip\n",
        "\n",
        "with gzip.open('./NY.gz', 'rb') as f:\n",
        "    gzipFile = f.read()\n",
        "    \n",
        "print(gzipFile[2])"
      ],
      "execution_count": 258,
      "outputs": [
        {
          "output_type": "stream",
          "name": "stdout",
          "text": [
            "57\n"
          ]
        }
      ]
    },
    {
      "cell_type": "markdown",
      "metadata": {
        "id": "T5OeoMx5qh3t"
      },
      "source": [
        "# GRAPH CLASS"
      ]
    },
    {
      "cell_type": "code",
      "metadata": {
        "id": "Uni9ACdeqKn7"
      },
      "source": [
        "class Graph():\n",
        "    def __init__(self):\n",
        "        print(\"Created Graph! \\n\")\n",
        "        self.vertices = []\n",
        "        self.edges = {}\n",
        "\n",
        "    def addVertex(self, vertex):\n",
        "        if (self.isEmpty()):\n",
        "            self.vertices.append(vertex)\n",
        "            self.edges.update({vertex: []})\n",
        "        else:\n",
        "            self.vertices.append(vertex)\n",
        "            self.edges.update({vertex: []})\n",
        "            # Connecting last two vertexes in graph together\n",
        "            self.addEdges(self.vertices[len(\n",
        "                self.vertices)-1], self.vertices[len(self.vertices)-2])\n",
        "\n",
        "    def addEdges(self, vertex1, vertex2):\n",
        "        # self.edges[vertex1].append(vertex2)\n",
        "        self.edges[vertex2].append(vertex1)\n",
        "\n",
        "    def isEmpty(self):\n",
        "        return True if not len(self.vertices) else False\n",
        "\n",
        "    def printGraph(self):\n",
        "        for x in self.vertices:\n",
        "          print(x.data, x.weight, [f'{city.data} weight: {city.weight}' for city in self.edges[x]])\n",
        "        # x = PrettyTable()\n",
        "        # x.field_names = [\n",
        "        #     \"Vertices (Cities)\", \"Edges (Cities/Distance)\"]\n",
        "\n",
        "        # try:\n",
        "        #     for v in self.vertices:\n",
        "        #         x.add_row([v.data, [x.getInfo() for x in self.edges[v]]])\n",
        "        #     print(x)\n",
        "        # except:\n",
        "        #     print(\"Graph Vertices is not consisted of Cities from JSON file.\")"
      ],
      "execution_count": 259,
      "outputs": []
    },
    {
      "cell_type": "markdown",
      "metadata": {
        "id": "Sdjgu_-NrMCo"
      },
      "source": [
        "# NODE CLASSES"
      ]
    },
    {
      "cell_type": "code",
      "metadata": {
        "id": "w8IspL0mrN0H"
      },
      "source": [
        "# Base Vertex Class\n",
        "class Vertex():\n",
        "    def __init__(self, data):\n",
        "        self.data = data\n",
        "\n",
        "# Weighted Vertex\n",
        "class WeightedVertex(Vertex):\n",
        "    def __init__(self, data, weight):\n",
        "        super().__init__(data)\n",
        "        self.weight = weight\n",
        "\n",
        "    def getInfo(self):\n",
        "        return (self.data, self.weight)\n",
        "\n",
        "# Node for BST\n",
        "class Node: \n",
        "  def __init__(self, data):\n",
        "    self.data = data\n",
        "    self.right = None\n",
        "    self.left = None\n",
        "  "
      ],
      "execution_count": 260,
      "outputs": []
    },
    {
      "cell_type": "markdown",
      "metadata": {
        "id": "0cHZRhaxbGsS"
      },
      "source": [
        "# BINARY TREE"
      ]
    },
    {
      "cell_type": "code",
      "metadata": {
        "id": "WD3fI30_bKxi"
      },
      "source": [
        "class BinaryTree():\n",
        "  def __init__(self):\n",
        "    self.root = None\n",
        "  \n",
        "  def isEmpty(self):\n",
        "    return (self.root == None)\n",
        "\n",
        "  def getRoot(self):\n",
        "    return (self.root)\n",
        "  \n",
        "  def add(self, node):\n",
        "    if (self.isEmpty()):\n",
        "      self.root = Node(node)\n",
        "    else:\n",
        "      self._add(node, self.root)\n",
        "\n",
        "  def _add(self, node, parent):\n",
        "    # Traversing Left\n",
        "    if (node < parent.data):\n",
        "      if parent.left is not None:\n",
        "        self._add(node, parent.left)\n",
        "      else:\n",
        "        parent.left = Node(node)\n",
        "    else:\n",
        "      if parent.right is not None:\n",
        "        self._add(node, parent.right)\n",
        "      else:\n",
        "        parent.right = Node(node)\n",
        "\n",
        "  def printTree(self):\n",
        "    if(self.isEmpty() is not True):\n",
        "      self._printTree(self.root)\n",
        "\n",
        "  def _printTree(self, node):\n",
        "    if node is not None:\n",
        "      self._printTree(node.left)\n",
        "      print(str(node.data) + ' ')\n",
        "      self._printTree(node.right)\n"
      ],
      "execution_count": 261,
      "outputs": []
    },
    {
      "cell_type": "code",
      "metadata": {
        "id": "ng_UZCg9oqUp"
      },
      "source": [
        "kruskalTree = BinaryTree()"
      ],
      "execution_count": 262,
      "outputs": []
    },
    {
      "cell_type": "markdown",
      "metadata": {
        "id": "Y-Sf1mBtrkbx"
      },
      "source": [
        "# ADD GZIP FILE TO GRAPH"
      ]
    },
    {
      "cell_type": "code",
      "metadata": {
        "colab": {
          "base_uri": "https://localhost:8080/"
        },
        "id": "rKQdqH0CroV_",
        "outputId": "4477e66c-c276-4351-93d6-1ce2b56cf150"
      },
      "source": [
        "cityGraph = Graph()\n",
        "for idx, val in enumerate(gzipFile[0:100]):\n",
        "    cityName = \"ny city \" + str(idx)\n",
        "    cityVertex = WeightedVertex(cityName, val)\n",
        "    cityGraph.addVertex(cityVertex)"
      ],
      "execution_count": 263,
      "outputs": [
        {
          "output_type": "stream",
          "name": "stdout",
          "text": [
            "Created Graph! \n",
            "\n"
          ]
        }
      ]
    },
    {
      "cell_type": "markdown",
      "metadata": {
        "id": "dVjnisjPtbmV"
      },
      "source": [
        "# PRIMS ALGORITHM\n",
        "---\n",
        "#### - keeps track of visited\n",
        "#### - greedy\n"
      ]
    },
    {
      "cell_type": "code",
      "metadata": {
        "id": "NgzXLtXQz-V7"
      },
      "source": [
        "######UTILITY FUNCTIONS########\n",
        "import random\n",
        "\n",
        "def returnWeight(obj):\n",
        "  return obj[\"weight\"]\n",
        "\n",
        "def addRandomEdges(graph):\n",
        "  for _ in range(len(graph.vertices)):\n",
        "    idx1 = random.randint(0, len(graph.vertices)-1)\n",
        "    idx2 = random.randint(0, len(graph.vertices)-1)\n",
        "    graph.addEdges(graph.vertices[idx1], graph.vertices[idx2])\n",
        "    "
      ],
      "execution_count": 264,
      "outputs": []
    },
    {
      "cell_type": "code",
      "metadata": {
        "id": "SJHOmofnteJA"
      },
      "source": [
        "def prims(graph,start, goal, initial = True, visited = []):\n",
        "  weights = []\n",
        "\n",
        "  # base case\n",
        "  if (start.data == goal.data):\n",
        "    return True\n",
        "  \n",
        "  # change weights on start\n",
        "  if (initial):\n",
        "    for x in graph.vertices:\n",
        "      if (start.data == x.data):\n",
        "        x.weight = 0\n",
        "        start.weight = 0\n",
        "        initial = False\n",
        "\n",
        "  # loop through start node edges\n",
        "  for x in graph.vertices:     # x is the nodes\n",
        "    if (start.data == x.data):\n",
        "      for y in graph.edges[x]:    # y is the edge nodes of x \n",
        "        weights.append({\"node\": y,\"weight\" : y.weight})   #append all of the nodes and corresponding weights\n",
        "      \n",
        "      #Checking if they are visited already and we will pop them off the weights list\n",
        "      if (len(visited) >= 1):\n",
        "        for check in weights:\n",
        "          for visit in visited:\n",
        "            if (check[\"node\"] == visit):\n",
        "              weights.remove(check)\n",
        "\n",
        "      # Next we visit the one with the least weight and append the node to visited\n",
        "      if (len(weights) >= 1):\n",
        "        weights.sort(key = returnWeight)  #sort on weight in ascending order\n",
        "        visited.append(weights[0][\"node\"])\n",
        "      else:\n",
        "        visited.append(weights[0][\"node\"])\n",
        "\n",
        "  for x in visited:\n",
        "    if (x.data == goal.data):\n",
        "      return True\n",
        "\n",
        "  print(visited[-1].data)  \n",
        "\n",
        "  try:\n",
        "    return prims(graph, visited[-1], goal, initial, visited)    \n",
        "\n",
        "  except IndexError:\n",
        "    print(\"Encountered Leaf: Backtracking...\")\n",
        "    return prims(graph, weights[0][\"node\"], goal, initial, visited)\n",
        "  \n"
      ],
      "execution_count": 265,
      "outputs": []
    },
    {
      "cell_type": "markdown",
      "metadata": {
        "id": "eLy-o_RNtgmL"
      },
      "source": [
        "# KRUSKAL ALGORITHM\n",
        "#### - smallest edges that dont create cycle\n",
        "#### - sorts edges\n",
        "#### - makes minimum spanning tree\n"
      ]
    },
    {
      "cell_type": "code",
      "metadata": {
        "id": "qlPSZNq4tmtn"
      },
      "source": [
        "def kruskal(graph, start, goal, initial=True):\n",
        "  edges = []\n",
        "\n",
        "  # base case\n",
        "  if (start.data == goal.data):\n",
        "    return True\n",
        "\n",
        "  # change weights on start\n",
        "  if (initial):\n",
        "    for x in graph.vertices:\n",
        "      if (start.data == x.data):\n",
        "        x.weight = 0\n",
        "        start.weight = 0\n",
        "        initial = False\n",
        "\n",
        "  # loop through vertices and sort the edges\n",
        "  for x in graph.vertices:\n",
        "    edges.append({\"city\" : x.data, \"weight\" : x.weight})\n",
        "    edges.sort(key = returnWeight)\n",
        "  \n",
        "  for x in edges:\n",
        "    #base case\n",
        "    if (x[\"city\"] == goal.data):\n",
        "        kruskalTree.printTree()\n",
        "        return True\n",
        "    else:\n",
        "        kruskalTree.add(x[\"weight\"])\n",
        "  \n",
        "\n",
        "\n"
      ],
      "execution_count": 266,
      "outputs": []
    },
    {
      "cell_type": "markdown",
      "metadata": {
        "id": "fgFVTVL55H0y"
      },
      "source": [
        "# TESTING ALGORITHMS\n",
        "### Finding two nodes in graph to set as start and goal node also showing the random edges of the graph"
      ]
    },
    {
      "cell_type": "code",
      "metadata": {
        "id": "Oj-QOULe56rR"
      },
      "source": [
        "addRandomEdges(cityGraph)\n",
        "# cityGraph.printGraph()"
      ],
      "execution_count": 267,
      "outputs": []
    },
    {
      "cell_type": "markdown",
      "metadata": {
        "id": "TOtOS9nf8plq"
      },
      "source": [
        "#### Lets pick the first and tenth element - we have to make them a vertex class object tho"
      ]
    },
    {
      "cell_type": "code",
      "metadata": {
        "id": "YstaBXfN82Ht"
      },
      "source": [
        "startNode = WeightedVertex(\"ny city 0\", 99)\n",
        "goalNode = WeightedVertex(\"ny city 10\", 67)"
      ],
      "execution_count": 268,
      "outputs": []
    },
    {
      "cell_type": "markdown",
      "metadata": {
        "id": "1ByNsXWX9IqJ"
      },
      "source": [
        "#### Now lets call Prims"
      ]
    },
    {
      "cell_type": "code",
      "metadata": {
        "colab": {
          "base_uri": "https://localhost:8080/"
        },
        "id": "B7wwAzOU9KgO",
        "outputId": "ea63d6a3-ec6c-4013-ec3f-289da463722a"
      },
      "source": [
        "%time\n",
        "print(prims(cityGraph, startNode, goalNode))"
      ],
      "execution_count": 269,
      "outputs": [
        {
          "output_type": "stream",
          "name": "stdout",
          "text": [
            "CPU times: user 5 µs, sys: 0 ns, total: 5 µs\n",
            "Wall time: 10.5 µs\n",
            "ny city 1\n",
            "ny city 2\n",
            "ny city 3\n",
            "ny city 4\n",
            "ny city 5\n",
            "ny city 6\n",
            "ny city 28\n",
            "ny city 29\n",
            "ny city 0\n",
            "ny city 67\n",
            "ny city 68\n",
            "ny city 41\n",
            "ny city 42\n",
            "ny city 43\n",
            "ny city 37\n",
            "ny city 38\n",
            "ny city 39\n",
            "ny city 49\n",
            "True\n"
          ]
        }
      ]
    },
    {
      "cell_type": "markdown",
      "metadata": {
        "id": "9ldoEYH1pxfE"
      },
      "source": [
        "# Lets Call Kruskal"
      ]
    },
    {
      "cell_type": "code",
      "metadata": {
        "colab": {
          "base_uri": "https://localhost:8080/"
        },
        "id": "idlHj5lWp0P-",
        "outputId": "dfed5c7a-be81-4626-e8ff-3c4c3d7c6c33"
      },
      "source": [
        "%time\n",
        "kruskal(cityGraph, startNode, goalNode)"
      ],
      "execution_count": 270,
      "outputs": [
        {
          "output_type": "stream",
          "name": "stdout",
          "text": [
            "CPU times: user 4 µs, sys: 1 µs, total: 5 µs\n",
            "Wall time: 8.82 µs\n",
            "0 \n",
            "10 \n",
            "10 \n",
            "32 \n",
            "32 \n",
            "32 \n",
            "32 \n",
            "32 \n",
            "32 \n",
            "32 \n",
            "32 \n",
            "46 \n",
            "46 \n",
            "46 \n",
            "47 \n",
            "47 \n",
            "47 \n",
            "49 \n",
            "57 \n",
            "57 \n",
            "58 \n",
            "58 \n",
            "65 \n"
          ]
        },
        {
          "output_type": "execute_result",
          "data": {
            "text/plain": [
              "True"
            ]
          },
          "metadata": {},
          "execution_count": 270
        }
      ]
    }
  ]
}